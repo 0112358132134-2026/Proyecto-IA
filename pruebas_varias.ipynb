{
 "cells": [
  {
   "cell_type": "code",
   "execution_count": 1,
   "id": "8a54d7f9",
   "metadata": {},
   "outputs": [],
   "source": [
    "import csv"
   ]
  },
  {
   "cell_type": "code",
   "execution_count": 2,
   "id": "a4850072",
   "metadata": {},
   "outputs": [],
   "source": [
    "diccionario = {}\n",
    "\n",
    "with open(\"movie_metadata.csv\", encoding='UTF8') as archivo:\n",
    "    lector = csv.reader(archivo, delimiter=\",\")        \n",
    "    next(lector, None)\n",
    "    contador = 1       \n",
    "    for fila in lector:\n",
    "        diccionario[fila[11]] = fila   \n",
    "        contador += 1\n",
    "        if contador == 5001:\n",
    "            break\n",
    "\n",
    "#print(diccionario)"
   ]
  },
  {
   "cell_type": "code",
   "execution_count": 3,
   "id": "53e6b25a",
   "metadata": {},
   "outputs": [
    {
     "name": "stdout",
     "output_type": "stream",
     "text": [
      "['Action', 'Adventure', 'Fantasy', 'Sci-Fi', 'Thriller', 'Documentary', 'Romance', 'Animation', 'Comedy', 'Family', 'Musical', 'Mystery', 'Western', 'Drama', 'History', 'Sport', 'Crime', 'Horror', 'War', 'Biography', 'Music', 'Game-Show', 'Reality-TV', 'News', 'Short', 'Film-Noir']\n"
     ]
    }
   ],
   "source": [
    "\n",
    "resultado = []\n",
    "for k,v in diccionario.items():\n",
    "    generos = v[9].split('|')\n",
    "    for genero in generos:\n",
    "        if not genero in resultado:\n",
    "            resultado.append(genero)\n",
    "print(resultado)"
   ]
  }
 ],
 "metadata": {
  "kernelspec": {
   "display_name": "Python 3 (ipykernel)",
   "language": "python",
   "name": "python3"
  },
  "language_info": {
   "codemirror_mode": {
    "name": "ipython",
    "version": 3
   },
   "file_extension": ".py",
   "mimetype": "text/x-python",
   "name": "python",
   "nbconvert_exporter": "python",
   "pygments_lexer": "ipython3",
   "version": "3.10.2"
  }
 },
 "nbformat": 4,
 "nbformat_minor": 5
}
