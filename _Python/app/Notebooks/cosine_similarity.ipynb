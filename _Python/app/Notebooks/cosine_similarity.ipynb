{
 "cells": [
  {
   "cell_type": "code",
   "execution_count": 339,
   "metadata": {
    "pycharm": {
     "name": "#%%\n"
    }
   },
   "outputs": [
    {
     "data": {
      "text/html": [
       "<div>\n",
       "<style scoped>\n",
       "    .dataframe tbody tr th:only-of-type {\n",
       "        vertical-align: middle;\n",
       "    }\n",
       "\n",
       "    .dataframe tbody tr th {\n",
       "        vertical-align: top;\n",
       "    }\n",
       "\n",
       "    .dataframe thead th {\n",
       "        text-align: right;\n",
       "    }\n",
       "</style>\n",
       "<table border=\"1\" class=\"dataframe\">\n",
       "  <thead>\n",
       "    <tr style=\"text-align: right;\">\n",
       "      <th></th>\n",
       "      <th>movie_title</th>\n",
       "      <th>actor_1_name</th>\n",
       "      <th>actor_2_name</th>\n",
       "      <th>actor_3_name</th>\n",
       "      <th>director_name</th>\n",
       "      <th>plot_keywords</th>\n",
       "      <th>genres</th>\n",
       "    </tr>\n",
       "  </thead>\n",
       "  <tbody>\n",
       "    <tr>\n",
       "      <th>0</th>\n",
       "      <td>Avatar</td>\n",
       "      <td>CCH Pounder</td>\n",
       "      <td>Joel David Moore</td>\n",
       "      <td>Wes Studi</td>\n",
       "      <td>James Cameron</td>\n",
       "      <td>avatar|future|marine|native|paraplegic</td>\n",
       "      <td>Action|Adventure|Fantasy|Sci-Fi</td>\n",
       "    </tr>\n",
       "    <tr>\n",
       "      <th>1</th>\n",
       "      <td>Pirates of the Caribbean: At World's End</td>\n",
       "      <td>Johnny Depp</td>\n",
       "      <td>Orlando Bloom</td>\n",
       "      <td>Jack Davenport</td>\n",
       "      <td>Gore Verbinski</td>\n",
       "      <td>goddess|marriage ceremony|marriage proposal|pi...</td>\n",
       "      <td>Action|Adventure|Fantasy</td>\n",
       "    </tr>\n",
       "    <tr>\n",
       "      <th>2</th>\n",
       "      <td>Spectre</td>\n",
       "      <td>Christoph Waltz</td>\n",
       "      <td>Rory Kinnear</td>\n",
       "      <td>Stephanie Sigman</td>\n",
       "      <td>Sam Mendes</td>\n",
       "      <td>bomb|espionage|sequel|spy|terrorist</td>\n",
       "      <td>Action|Adventure|Thriller</td>\n",
       "    </tr>\n",
       "    <tr>\n",
       "      <th>3</th>\n",
       "      <td>The Dark Knight Rises</td>\n",
       "      <td>Tom Hardy</td>\n",
       "      <td>Christian Bale</td>\n",
       "      <td>Joseph Gordon-Levitt</td>\n",
       "      <td>Christopher Nolan</td>\n",
       "      <td>deception|imprisonment|lawlessness|police offi...</td>\n",
       "      <td>Action|Thriller</td>\n",
       "    </tr>\n",
       "    <tr>\n",
       "      <th>4</th>\n",
       "      <td>Star Wars: Episode VII - The Force Awakens    ...</td>\n",
       "      <td>Doug Walker</td>\n",
       "      <td>Rob Walker</td>\n",
       "      <td>NaN</td>\n",
       "      <td>Doug Walker</td>\n",
       "      <td>NaN</td>\n",
       "      <td>Documentary</td>\n",
       "    </tr>\n",
       "  </tbody>\n",
       "</table>\n",
       "</div>"
      ],
      "text/plain": [
       "                                         movie_title     actor_1_name  \\\n",
       "0                                            Avatar       CCH Pounder   \n",
       "1          Pirates of the Caribbean: At World's End       Johnny Depp   \n",
       "2                                           Spectre   Christoph Waltz   \n",
       "3                             The Dark Knight Rises         Tom Hardy   \n",
       "4  Star Wars: Episode VII - The Force Awakens    ...      Doug Walker   \n",
       "\n",
       "       actor_2_name          actor_3_name      director_name  \\\n",
       "0  Joel David Moore             Wes Studi      James Cameron   \n",
       "1     Orlando Bloom        Jack Davenport     Gore Verbinski   \n",
       "2      Rory Kinnear      Stephanie Sigman         Sam Mendes   \n",
       "3    Christian Bale  Joseph Gordon-Levitt  Christopher Nolan   \n",
       "4        Rob Walker                   NaN        Doug Walker   \n",
       "\n",
       "                                       plot_keywords  \\\n",
       "0             avatar|future|marine|native|paraplegic   \n",
       "1  goddess|marriage ceremony|marriage proposal|pi...   \n",
       "2                bomb|espionage|sequel|spy|terrorist   \n",
       "3  deception|imprisonment|lawlessness|police offi...   \n",
       "4                                                NaN   \n",
       "\n",
       "                            genres  \n",
       "0  Action|Adventure|Fantasy|Sci-Fi  \n",
       "1         Action|Adventure|Fantasy  \n",
       "2        Action|Adventure|Thriller  \n",
       "3                  Action|Thriller  \n",
       "4                      Documentary  "
      ]
     },
     "execution_count": 339,
     "metadata": {},
     "output_type": "execute_result"
    }
   ],
   "source": [
    "import pandas as pd\n",
    "metadata = pd.read_csv('movie_metadata.csv')\n",
    "metadata[['movie_title', 'actor_1_name','actor_2_name','actor_3_name','director_name', 'plot_keywords', 'genres']].head(5)"
   ]
  },
  {
   "cell_type": "markdown",
   "metadata": {
    "pycharm": {
     "name": "#%% md\n"
    }
   },
   "source": [
    "#### Filtering Data"
   ]
  },
  {
   "cell_type": "code",
   "execution_count": 340,
   "metadata": {
    "pycharm": {
     "name": "#%%\n"
    }
   },
   "outputs": [
    {
     "data": {
      "text/html": [
       "<div>\n",
       "<style scoped>\n",
       "    .dataframe tbody tr th:only-of-type {\n",
       "        vertical-align: middle;\n",
       "    }\n",
       "\n",
       "    .dataframe tbody tr th {\n",
       "        vertical-align: top;\n",
       "    }\n",
       "\n",
       "    .dataframe thead th {\n",
       "        text-align: right;\n",
       "    }\n",
       "</style>\n",
       "<table border=\"1\" class=\"dataframe\">\n",
       "  <thead>\n",
       "    <tr style=\"text-align: right;\">\n",
       "      <th></th>\n",
       "      <th>movie_title</th>\n",
       "      <th>cast</th>\n",
       "      <th>director_name</th>\n",
       "      <th>plot_keywords</th>\n",
       "      <th>genres</th>\n",
       "    </tr>\n",
       "  </thead>\n",
       "  <tbody>\n",
       "    <tr>\n",
       "      <th>0</th>\n",
       "      <td>Avatar</td>\n",
       "      <td>CCH Pounder|Joel David Moore|Wes Studi</td>\n",
       "      <td>James Cameron</td>\n",
       "      <td>avatar|future|marine|native|paraplegic</td>\n",
       "      <td>Action|Adventure|Fantasy|Sci-Fi</td>\n",
       "    </tr>\n",
       "    <tr>\n",
       "      <th>1</th>\n",
       "      <td>Pirates of the Caribbean: At World's End</td>\n",
       "      <td>Johnny Depp|Orlando Bloom|Jack Davenport</td>\n",
       "      <td>Gore Verbinski</td>\n",
       "      <td>goddess|marriage ceremony|marriage proposal|pi...</td>\n",
       "      <td>Action|Adventure|Fantasy</td>\n",
       "    </tr>\n",
       "    <tr>\n",
       "      <th>2</th>\n",
       "      <td>Spectre</td>\n",
       "      <td>Christoph Waltz|Rory Kinnear|Stephanie Sigman</td>\n",
       "      <td>Sam Mendes</td>\n",
       "      <td>bomb|espionage|sequel|spy|terrorist</td>\n",
       "      <td>Action|Adventure|Thriller</td>\n",
       "    </tr>\n",
       "    <tr>\n",
       "      <th>3</th>\n",
       "      <td>The Dark Knight Rises</td>\n",
       "      <td>Tom Hardy|Christian Bale|Joseph Gordon-Levitt</td>\n",
       "      <td>Christopher Nolan</td>\n",
       "      <td>deception|imprisonment|lawlessness|police offi...</td>\n",
       "      <td>Action|Thriller</td>\n",
       "    </tr>\n",
       "    <tr>\n",
       "      <th>4</th>\n",
       "      <td>Star Wars: Episode VII - The Force Awakens    ...</td>\n",
       "      <td>Doug Walker|Rob Walker|</td>\n",
       "      <td>Doug Walker</td>\n",
       "      <td>NaN</td>\n",
       "      <td>Documentary</td>\n",
       "    </tr>\n",
       "  </tbody>\n",
       "</table>\n",
       "</div>"
      ],
      "text/plain": [
       "                                         movie_title  \\\n",
       "0                                            Avatar    \n",
       "1          Pirates of the Caribbean: At World's End    \n",
       "2                                           Spectre    \n",
       "3                             The Dark Knight Rises    \n",
       "4  Star Wars: Episode VII - The Force Awakens    ...   \n",
       "\n",
       "                                            cast      director_name  \\\n",
       "0         CCH Pounder|Joel David Moore|Wes Studi      James Cameron   \n",
       "1       Johnny Depp|Orlando Bloom|Jack Davenport     Gore Verbinski   \n",
       "2  Christoph Waltz|Rory Kinnear|Stephanie Sigman         Sam Mendes   \n",
       "3  Tom Hardy|Christian Bale|Joseph Gordon-Levitt  Christopher Nolan   \n",
       "4                        Doug Walker|Rob Walker|        Doug Walker   \n",
       "\n",
       "                                       plot_keywords  \\\n",
       "0             avatar|future|marine|native|paraplegic   \n",
       "1  goddess|marriage ceremony|marriage proposal|pi...   \n",
       "2                bomb|espionage|sequel|spy|terrorist   \n",
       "3  deception|imprisonment|lawlessness|police offi...   \n",
       "4                                                NaN   \n",
       "\n",
       "                            genres  \n",
       "0  Action|Adventure|Fantasy|Sci-Fi  \n",
       "1         Action|Adventure|Fantasy  \n",
       "2        Action|Adventure|Thriller  \n",
       "3                  Action|Thriller  \n",
       "4                      Documentary  "
      ]
     },
     "execution_count": 340,
     "metadata": {},
     "output_type": "execute_result"
    }
   ],
   "source": [
    "#Combine actors in a cast\n",
    "metadata['cast'] = metadata['actor_1_name'].str.cat(metadata[['actor_2_name', 'actor_3_name']], sep='|', na_rep='')\n",
    "metadata[['movie_title', 'cast','director_name', 'plot_keywords', 'genres']].head(5)"
   ]
  },
  {
   "cell_type": "code",
   "execution_count": 341,
   "metadata": {
    "pycharm": {
     "name": "#%%\n"
    }
   },
   "outputs": [],
   "source": [
    "#Converting many values in a list\n",
    "def converToList(feature):\n",
    "    values = []\n",
    "    for ind in metadata.index:\n",
    "        current_list = str(metadata[feature][ind]).split('|')\n",
    "        normalized_list = [x for x in current_list if pd.isnull(x) == False and x != '']\n",
    "        values.append(normalized_list)\n",
    "    return values\n"
   ]
  },
  {
   "cell_type": "code",
   "execution_count": 342,
   "metadata": {
    "pycharm": {
     "name": "#%%\n"
    }
   },
   "outputs": [],
   "source": [
    "features = ['cast', 'plot_keywords', 'genres']\n",
    "for feature in features:\n",
    "    metadata[feature] = converToList(feature)"
   ]
  },
  {
   "cell_type": "code",
   "execution_count": 343,
   "metadata": {
    "pycharm": {
     "name": "#%%\n"
    }
   },
   "outputs": [
    {
     "data": {
      "text/html": [
       "<div>\n",
       "<style scoped>\n",
       "    .dataframe tbody tr th:only-of-type {\n",
       "        vertical-align: middle;\n",
       "    }\n",
       "\n",
       "    .dataframe tbody tr th {\n",
       "        vertical-align: top;\n",
       "    }\n",
       "\n",
       "    .dataframe thead th {\n",
       "        text-align: right;\n",
       "    }\n",
       "</style>\n",
       "<table border=\"1\" class=\"dataframe\">\n",
       "  <thead>\n",
       "    <tr style=\"text-align: right;\">\n",
       "      <th></th>\n",
       "      <th>movie_title</th>\n",
       "      <th>cast</th>\n",
       "      <th>director_name</th>\n",
       "      <th>plot_keywords</th>\n",
       "      <th>genres</th>\n",
       "    </tr>\n",
       "  </thead>\n",
       "  <tbody>\n",
       "    <tr>\n",
       "      <th>0</th>\n",
       "      <td>Avatar</td>\n",
       "      <td>[CCH Pounder, Joel David Moore, Wes Studi]</td>\n",
       "      <td>James Cameron</td>\n",
       "      <td>[avatar, future, marine, native, paraplegic]</td>\n",
       "      <td>[Action, Adventure, Fantasy, Sci-Fi]</td>\n",
       "    </tr>\n",
       "    <tr>\n",
       "      <th>1</th>\n",
       "      <td>Pirates of the Caribbean: At World's End</td>\n",
       "      <td>[Johnny Depp, Orlando Bloom, Jack Davenport]</td>\n",
       "      <td>Gore Verbinski</td>\n",
       "      <td>[goddess, marriage ceremony, marriage proposal...</td>\n",
       "      <td>[Action, Adventure, Fantasy]</td>\n",
       "    </tr>\n",
       "    <tr>\n",
       "      <th>2</th>\n",
       "      <td>Spectre</td>\n",
       "      <td>[Christoph Waltz, Rory Kinnear, Stephanie Sigman]</td>\n",
       "      <td>Sam Mendes</td>\n",
       "      <td>[bomb, espionage, sequel, spy, terrorist]</td>\n",
       "      <td>[Action, Adventure, Thriller]</td>\n",
       "    </tr>\n",
       "    <tr>\n",
       "      <th>3</th>\n",
       "      <td>The Dark Knight Rises</td>\n",
       "      <td>[Tom Hardy, Christian Bale, Joseph Gordon-Levitt]</td>\n",
       "      <td>Christopher Nolan</td>\n",
       "      <td>[deception, imprisonment, lawlessness, police ...</td>\n",
       "      <td>[Action, Thriller]</td>\n",
       "    </tr>\n",
       "    <tr>\n",
       "      <th>4</th>\n",
       "      <td>Star Wars: Episode VII - The Force Awakens    ...</td>\n",
       "      <td>[Doug Walker, Rob Walker]</td>\n",
       "      <td>Doug Walker</td>\n",
       "      <td>[nan]</td>\n",
       "      <td>[Documentary]</td>\n",
       "    </tr>\n",
       "  </tbody>\n",
       "</table>\n",
       "</div>"
      ],
      "text/plain": [
       "                                         movie_title  \\\n",
       "0                                            Avatar    \n",
       "1          Pirates of the Caribbean: At World's End    \n",
       "2                                           Spectre    \n",
       "3                             The Dark Knight Rises    \n",
       "4  Star Wars: Episode VII - The Force Awakens    ...   \n",
       "\n",
       "                                                cast      director_name  \\\n",
       "0         [CCH Pounder, Joel David Moore, Wes Studi]      James Cameron   \n",
       "1       [Johnny Depp, Orlando Bloom, Jack Davenport]     Gore Verbinski   \n",
       "2  [Christoph Waltz, Rory Kinnear, Stephanie Sigman]         Sam Mendes   \n",
       "3  [Tom Hardy, Christian Bale, Joseph Gordon-Levitt]  Christopher Nolan   \n",
       "4                          [Doug Walker, Rob Walker]        Doug Walker   \n",
       "\n",
       "                                       plot_keywords  \\\n",
       "0       [avatar, future, marine, native, paraplegic]   \n",
       "1  [goddess, marriage ceremony, marriage proposal...   \n",
       "2          [bomb, espionage, sequel, spy, terrorist]   \n",
       "3  [deception, imprisonment, lawlessness, police ...   \n",
       "4                                              [nan]   \n",
       "\n",
       "                                 genres  \n",
       "0  [Action, Adventure, Fantasy, Sci-Fi]  \n",
       "1          [Action, Adventure, Fantasy]  \n",
       "2         [Action, Adventure, Thriller]  \n",
       "3                    [Action, Thriller]  \n",
       "4                         [Documentary]  "
      ]
     },
     "execution_count": 343,
     "metadata": {},
     "output_type": "execute_result"
    }
   ],
   "source": [
    "metadata[['movie_title', 'cast','director_name', 'plot_keywords', 'genres']].head(5)"
   ]
  },
  {
   "cell_type": "markdown",
   "metadata": {
    "pycharm": {
     "name": "#%% md\n"
    }
   },
   "source": [
    "#### Cleaning Data"
   ]
  },
  {
   "cell_type": "code",
   "execution_count": 344,
   "metadata": {
    "pycharm": {
     "name": "#%%\n"
    }
   },
   "outputs": [],
   "source": [
    "# Function to convert all strings to lower case and strip names of spaces\n",
    "def clean_data(x):\n",
    "    if isinstance(x, list):\n",
    "        return [str.lower(i.replace(\" \", \"\")) for i in x]\n",
    "    else:\n",
    "        #Check if director exists. If not, return empty string\n",
    "        if isinstance(x, str):\n",
    "            return str.lower(x.replace(\" \", \"\"))\n",
    "        else:\n",
    "            return ''"
   ]
  },
  {
   "cell_type": "code",
   "execution_count": 345,
   "metadata": {
    "pycharm": {
     "name": "#%%\n"
    }
   },
   "outputs": [],
   "source": [
    "features = ['cast', 'plot_keywords', 'director_name', 'genres']\n",
    "\n",
    "for feature in features:\n",
    "    metadata[feature] = metadata[feature].apply(clean_data)"
   ]
  },
  {
   "cell_type": "code",
   "execution_count": 346,
   "metadata": {
    "pycharm": {
     "name": "#%%\n"
    }
   },
   "outputs": [
    {
     "data": {
      "text/html": [
       "<div>\n",
       "<style scoped>\n",
       "    .dataframe tbody tr th:only-of-type {\n",
       "        vertical-align: middle;\n",
       "    }\n",
       "\n",
       "    .dataframe tbody tr th {\n",
       "        vertical-align: top;\n",
       "    }\n",
       "\n",
       "    .dataframe thead th {\n",
       "        text-align: right;\n",
       "    }\n",
       "</style>\n",
       "<table border=\"1\" class=\"dataframe\">\n",
       "  <thead>\n",
       "    <tr style=\"text-align: right;\">\n",
       "      <th></th>\n",
       "      <th>movie_title</th>\n",
       "      <th>cast</th>\n",
       "      <th>director_name</th>\n",
       "      <th>plot_keywords</th>\n",
       "      <th>genres</th>\n",
       "    </tr>\n",
       "  </thead>\n",
       "  <tbody>\n",
       "    <tr>\n",
       "      <th>0</th>\n",
       "      <td>Avatar</td>\n",
       "      <td>[cchpounder, joeldavidmoore, wesstudi]</td>\n",
       "      <td>jamescameron</td>\n",
       "      <td>[avatar, future, marine, native, paraplegic]</td>\n",
       "      <td>[action, adventure, fantasy, sci-fi]</td>\n",
       "    </tr>\n",
       "    <tr>\n",
       "      <th>1</th>\n",
       "      <td>Pirates of the Caribbean: At World's End</td>\n",
       "      <td>[johnnydepp, orlandobloom, jackdavenport]</td>\n",
       "      <td>goreverbinski</td>\n",
       "      <td>[goddess, marriageceremony, marriageproposal, ...</td>\n",
       "      <td>[action, adventure, fantasy]</td>\n",
       "    </tr>\n",
       "    <tr>\n",
       "      <th>2</th>\n",
       "      <td>Spectre</td>\n",
       "      <td>[christophwaltz, rorykinnear, stephaniesigman]</td>\n",
       "      <td>sammendes</td>\n",
       "      <td>[bomb, espionage, sequel, spy, terrorist]</td>\n",
       "      <td>[action, adventure, thriller]</td>\n",
       "    </tr>\n",
       "    <tr>\n",
       "      <th>3</th>\n",
       "      <td>The Dark Knight Rises</td>\n",
       "      <td>[tomhardy, christianbale, josephgordon-levitt]</td>\n",
       "      <td>christophernolan</td>\n",
       "      <td>[deception, imprisonment, lawlessness, policeo...</td>\n",
       "      <td>[action, thriller]</td>\n",
       "    </tr>\n",
       "    <tr>\n",
       "      <th>4</th>\n",
       "      <td>Star Wars: Episode VII - The Force Awakens    ...</td>\n",
       "      <td>[dougwalker, robwalker]</td>\n",
       "      <td>dougwalker</td>\n",
       "      <td>[nan]</td>\n",
       "      <td>[documentary]</td>\n",
       "    </tr>\n",
       "  </tbody>\n",
       "</table>\n",
       "</div>"
      ],
      "text/plain": [
       "                                         movie_title  \\\n",
       "0                                            Avatar    \n",
       "1          Pirates of the Caribbean: At World's End    \n",
       "2                                           Spectre    \n",
       "3                             The Dark Knight Rises    \n",
       "4  Star Wars: Episode VII - The Force Awakens    ...   \n",
       "\n",
       "                                             cast     director_name  \\\n",
       "0          [cchpounder, joeldavidmoore, wesstudi]      jamescameron   \n",
       "1       [johnnydepp, orlandobloom, jackdavenport]     goreverbinski   \n",
       "2  [christophwaltz, rorykinnear, stephaniesigman]         sammendes   \n",
       "3  [tomhardy, christianbale, josephgordon-levitt]  christophernolan   \n",
       "4                         [dougwalker, robwalker]        dougwalker   \n",
       "\n",
       "                                       plot_keywords  \\\n",
       "0       [avatar, future, marine, native, paraplegic]   \n",
       "1  [goddess, marriageceremony, marriageproposal, ...   \n",
       "2          [bomb, espionage, sequel, spy, terrorist]   \n",
       "3  [deception, imprisonment, lawlessness, policeo...   \n",
       "4                                              [nan]   \n",
       "\n",
       "                                 genres  \n",
       "0  [action, adventure, fantasy, sci-fi]  \n",
       "1          [action, adventure, fantasy]  \n",
       "2         [action, adventure, thriller]  \n",
       "3                    [action, thriller]  \n",
       "4                         [documentary]  "
      ]
     },
     "execution_count": 346,
     "metadata": {},
     "output_type": "execute_result"
    }
   ],
   "source": [
    "metadata[['movie_title', 'cast','director_name', 'plot_keywords', 'genres']].head(5)"
   ]
  },
  {
   "cell_type": "markdown",
   "metadata": {
    "pycharm": {
     "name": "#%% md\n"
    }
   },
   "source": [
    "#### Creating Soup Field"
   ]
  },
  {
   "cell_type": "code",
   "execution_count": 347,
   "metadata": {
    "pycharm": {
     "name": "#%%\n"
    }
   },
   "outputs": [],
   "source": [
    "def create_soup(x):\n",
    "    return ' '.join(x['plot_keywords']) + ' ' + ' '.join(x['cast']) + ' ' + x['director_name'] + ' ' + ' '.join(x['genres'])"
   ]
  },
  {
   "cell_type": "code",
   "execution_count": 348,
   "metadata": {
    "pycharm": {
     "name": "#%%\n"
    }
   },
   "outputs": [
    {
     "data": {
      "text/html": [
       "<div>\n",
       "<style scoped>\n",
       "    .dataframe tbody tr th:only-of-type {\n",
       "        vertical-align: middle;\n",
       "    }\n",
       "\n",
       "    .dataframe tbody tr th {\n",
       "        vertical-align: top;\n",
       "    }\n",
       "\n",
       "    .dataframe thead th {\n",
       "        text-align: right;\n",
       "    }\n",
       "</style>\n",
       "<table border=\"1\" class=\"dataframe\">\n",
       "  <thead>\n",
       "    <tr style=\"text-align: right;\">\n",
       "      <th></th>\n",
       "      <th>soup</th>\n",
       "    </tr>\n",
       "  </thead>\n",
       "  <tbody>\n",
       "    <tr>\n",
       "      <th>0</th>\n",
       "      <td>avatar future marine native paraplegic cchpoun...</td>\n",
       "    </tr>\n",
       "    <tr>\n",
       "      <th>1</th>\n",
       "      <td>goddess marriageceremony marriageproposal pira...</td>\n",
       "    </tr>\n",
       "    <tr>\n",
       "      <th>2</th>\n",
       "      <td>bomb espionage sequel spy terrorist christophw...</td>\n",
       "    </tr>\n",
       "    <tr>\n",
       "      <th>3</th>\n",
       "      <td>deception imprisonment lawlessness policeoffic...</td>\n",
       "    </tr>\n",
       "    <tr>\n",
       "      <th>4</th>\n",
       "      <td>nan dougwalker robwalker dougwalker documentary</td>\n",
       "    </tr>\n",
       "  </tbody>\n",
       "</table>\n",
       "</div>"
      ],
      "text/plain": [
       "                                                soup\n",
       "0  avatar future marine native paraplegic cchpoun...\n",
       "1  goddess marriageceremony marriageproposal pira...\n",
       "2  bomb espionage sequel spy terrorist christophw...\n",
       "3  deception imprisonment lawlessness policeoffic...\n",
       "4    nan dougwalker robwalker dougwalker documentary"
      ]
     },
     "execution_count": 348,
     "metadata": {},
     "output_type": "execute_result"
    }
   ],
   "source": [
    "# Create a new soup feature, falta eliminar el nan del registro 4\n",
    "metadata['soup'] = metadata.apply(create_soup, axis=1)\n",
    "metadata[['soup']].head(5)"
   ]
  },
  {
   "cell_type": "code",
   "execution_count": 349,
   "metadata": {
    "pycharm": {
     "name": "#%%\n"
    }
   },
   "outputs": [
    {
     "name": "stdout",
     "output_type": "stream",
     "text": [
      "avatar future marine native paraplegic cchpounder joeldavidmoore wesstudi jamescameron action adventure fantasy sci-fi\n"
     ]
    }
   ],
   "source": [
    "# Entry movie\n",
    "print(metadata[['soup']].head(5)['soup'][0])"
   ]
  },
  {
   "cell_type": "markdown",
   "metadata": {
    "pycharm": {
     "name": "#%% md\n"
    }
   },
   "source": [
    "#### Recomendation Algorithm"
   ]
  },
  {
   "cell_type": "code",
   "execution_count": 350,
   "metadata": {
    "pycharm": {
     "name": "#%%\n"
    }
   },
   "outputs": [],
   "source": [
    "# Import CountVectorizer and create the count matrix\n",
    "from sklearn.feature_extraction.text import CountVectorizer\n",
    "\n",
    "count = CountVectorizer(stop_words='english')\n",
    "count_matrix = count.fit_transform(metadata['soup'])"
   ]
  },
  {
   "cell_type": "code",
   "execution_count": 351,
   "metadata": {
    "pycharm": {
     "name": "#%%\n"
    }
   },
   "outputs": [
    {
     "data": {
      "text/plain": [
       "(5043, 16884)"
      ]
     },
     "execution_count": 351,
     "metadata": {},
     "output_type": "execute_result"
    }
   ],
   "source": [
    "count_matrix.shape"
   ]
  },
  {
   "cell_type": "code",
   "execution_count": 362,
   "metadata": {
    "pycharm": {
     "name": "#%%\n"
    }
   },
   "outputs": [
    {
     "name": "stdout",
     "output_type": "stream",
     "text": [
      "  (0, 148)\t1\n",
      "  (0, 236)\t1\n",
      "  (0, 1152)\t1\n",
      "  (0, 2494)\t1\n",
      "  (0, 5131)\t1\n",
      "  (0, 5281)\t1\n",
      "  (0, 5650)\t1\n",
      "  (0, 7210)\t1\n",
      "  (0, 7757)\t1\n",
      "  (0, 9679)\t1\n",
      "  (0, 10855)\t1\n",
      "  (0, 11529)\t1\n",
      "  (0, 13680)\t1\n",
      "  (0, 16430)\t1\n",
      "  (1, 148)\t1\n",
      "  (1, 236)\t1\n",
      "  (1, 5131)\t1\n",
      "  (1, 6032)\t1\n",
      "  (1, 6064)\t1\n",
      "  (1, 7103)\t1\n",
      "  (1, 7918)\t1\n",
      "  (1, 9760)\t1\n",
      "  (1, 9763)\t1\n",
      "  (1, 11394)\t1\n",
      "  (1, 12001)\t1\n",
      "  :\t:\n",
      "  (5040, 1465)\t1\n",
      "  (5040, 3756)\t1\n",
      "  (5040, 4371)\t1\n",
      "  (5040, 4942)\t1\n",
      "  (5040, 6666)\t1\n",
      "  (5040, 9989)\t1\n",
      "  (5040, 10779)\t1\n",
      "  (5040, 15423)\t1\n",
      "  (5041, 346)\t1\n",
      "  (5041, 3146)\t1\n",
      "  (5041, 3597)\t1\n",
      "  (5041, 3598)\t1\n",
      "  (5041, 4371)\t1\n",
      "  (5041, 4674)\t1\n",
      "  (5041, 10779)\t1\n",
      "  (5041, 13246)\t1\n",
      "  (5042, 161)\t1\n",
      "  (5042, 2005)\t1\n",
      "  (5042, 3442)\t1\n",
      "  (5042, 3713)\t1\n",
      "  (5042, 4230)\t1\n",
      "  (5042, 5501)\t1\n",
      "  (5042, 7808)\t1\n",
      "  (5042, 8019)\t2\n",
      "  (5042, 16169)\t1\n"
     ]
    }
   ],
   "source": [
    "print(count_matrix)"
   ]
  },
  {
   "cell_type": "code",
   "execution_count": 352,
   "metadata": {
    "pycharm": {
     "name": "#%%\n"
    }
   },
   "outputs": [],
   "source": [
    "# Compute the Cosine Similarity matrix based on the count_matrix\n",
    "from sklearn.metrics.pairwise import cosine_similarity\n",
    "\n",
    "cosine_sim2 = cosine_similarity(count_matrix, count_matrix)"
   ]
  },
  {
   "cell_type": "code",
   "execution_count": 353,
   "metadata": {
    "pycharm": {
     "name": "#%%\n"
    }
   },
   "outputs": [],
   "source": [
    "# Reset index of your main DataFrame and construct reverse mapping as before\n",
    "metadata = metadata.reset_index()\n",
    "indices = pd.Series(metadata.index, index=metadata['movie_title'])"
   ]
  },
  {
   "cell_type": "code",
   "execution_count": 354,
   "metadata": {
    "pycharm": {
     "name": "#%%\n"
    }
   },
   "outputs": [
    {
     "data": {
      "text/plain": [
       "movie_title\n",
       "Avatar                                                      0\n",
       "Pirates of the Caribbean: At World's End                    1\n",
       "Spectre                                                     2\n",
       "The Dark Knight Rises                                       3\n",
       "Star Wars: Episode VII - The Force Awakens                  4\n",
       "John Carter                                                 5\n",
       "Spider-Man 3                                                6\n",
       "Tangled                                                     7\n",
       "Avengers: Age of Ultron                                     8\n",
       "Harry Potter and the Half-Blood Prince                      9\n",
       "Batman v Superman: Dawn of Justice                         10\n",
       "Superman Returns                                           11\n",
       "Quantum of Solace                                          12\n",
       "Pirates of the Caribbean: Dead Man's Chest                 13\n",
       "The Lone Ranger                                            14\n",
       "Man of Steel                                               15\n",
       "The Chronicles of Narnia: Prince Caspian                   16\n",
       "The Avengers                                               17\n",
       "Pirates of the Caribbean: On Stranger Tides                18\n",
       "Men in Black 3                                             19\n",
       "The Hobbit: The Battle of the Five Armies                  20\n",
       "The Amazing Spider-Man                                     21\n",
       "Robin Hood                                                 22\n",
       "The Hobbit: The Desolation of Smaug                        23\n",
       "The Golden Compass                                         24\n",
       "King Kong                                                  25\n",
       "Titanic                                                    26\n",
       "Captain America: Civil War                                 27\n",
       "Battleship                                                 28\n",
       "Jurassic World                                             29\n",
       "Skyfall                                                    30\n",
       "Spider-Man 2                                               31\n",
       "Iron Man 3                                                 32\n",
       "Alice in Wonderland                                        33\n",
       "X-Men: The Last Stand                                      34\n",
       "Monsters University                                        35\n",
       "Transformers: Revenge of the Fallen                        36\n",
       "Transformers: Age of Extinction                            37\n",
       "Oz the Great and Powerful                                  38\n",
       "The Amazing Spider-Man 2                                   39\n",
       "TRON: Legacy                                               40\n",
       "Cars 2                                                     41\n",
       "Green Lantern                                              42\n",
       "Toy Story 3                                                43\n",
       "Terminator Salvation                                       44\n",
       "Furious 7                                                  45\n",
       "World War Z                                                46\n",
       "X-Men: Days of Future Past                                 47\n",
       "Star Trek Into Darkness                                    48\n",
       "Jack the Giant Slayer                                      49\n",
       "dtype: int64"
      ]
     },
     "execution_count": 354,
     "metadata": {},
     "output_type": "execute_result"
    }
   ],
   "source": [
    "indices[:50]"
   ]
  },
  {
   "cell_type": "markdown",
   "metadata": {
    "pycharm": {
     "name": "#%% md\n"
    }
   },
   "source": [
    "#### Testing Recomendation"
   ]
  },
  {
   "cell_type": "code",
   "execution_count": 359,
   "metadata": {
    "pycharm": {
     "name": "#%%\n"
    }
   },
   "outputs": [],
   "source": [
    "# Function that takes in movie title as input and outputs most similar movies\n",
    "def get_recommendations(title, cosine_sim):\n",
    "    # Get the index of the movie that matches the title\n",
    "    #idx = indices[title]\n",
    "    idx = 26\n",
    "    # Get the pairwsie similarity scores of all movies with that movie\n",
    "    sim_scores = list(enumerate(cosine_sim[idx]))\n",
    "\n",
    "    # Sort the movies based on the similarity scores\n",
    "    sim_scores = sorted(sim_scores, key=lambda x: x[1], reverse=True)\n",
    "\n",
    "    # Get the scores of the 10 most similar movies\n",
    "    sim_scores = sim_scores[1:11]\n",
    "\n",
    "    # Get the movie indices\n",
    "    movie_indices = [i[0] for i in sim_scores]\n",
    "\n",
    "    # Return the top 10 most similar movies\n",
    "    return metadata['movie_title'].iloc[movie_indices]"
   ]
  },
  {
   "cell_type": "code",
   "execution_count": 360,
   "metadata": {
    "pycharm": {
     "name": "#%%\n"
    }
   },
   "outputs": [
    {
     "name": "stdout",
     "output_type": "stream",
     "text": [
      "1114             Revolutionary Road \n",
      "1538                     The Reader \n",
      "2757                 Romeo + Juliet \n",
      "3675                           Iris \n",
      "3775             Heavenly Creatures \n",
      "50                 The Great Gatsby \n",
      "408                     The Holiday \n",
      "417             Memoirs of a Geisha \n",
      "477                         Déjà Vu \n",
      "1132    Love in the Time of Cholera \n",
      "Name: movie_title, dtype: object\n"
     ]
    }
   ],
   "source": [
    "print(get_recommendations('The Avengers', cosine_sim2))"
   ]
  }
 ],
 "metadata": {
  "interpreter": {
   "hash": "748e757d3cd1dff4eaeed77086e53d24a45e343a597df18bb32a4f1ec83797a9"
  },
  "kernelspec": {
   "display_name": "Python 3.9.10 64-bit (system)",
   "language": "python",
   "name": "python3"
  },
  "language_info": {
   "codemirror_mode": {
    "name": "ipython",
    "version": 3
   },
   "file_extension": ".py",
   "mimetype": "text/x-python",
   "name": "python",
   "nbconvert_exporter": "python",
   "pygments_lexer": "ipython3",
   "version": "3.9.10"
  },
  "orig_nbformat": 4
 },
 "nbformat": 4,
 "nbformat_minor": 2
}