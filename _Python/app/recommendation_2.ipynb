{
 "cells": [
  {
   "cell_type": "code",
   "execution_count": 17,
   "outputs": [],
   "source": [
    "import pandas as pd\n",
    "\n",
    "from db import UserPreferences, AllMoviesInfo\n",
    "RatedMovies = {}\n",
    "allMovies = []\n",
    "Directors = {}\n",
    "Actors = {}\n",
    "Genres = {}\n",
    "KeyWords = {}"
   ],
   "metadata": {
    "collapsed": false,
    "pycharm": {
     "name": "#%%\n"
    }
   }
  },
  {
   "cell_type": "code",
   "execution_count": 18,
   "outputs": [],
   "source": [
    "def DirectorFreq():\n",
    "    likedmoviescount = 0\n",
    "    for key in RatedMovies.keys():\n",
    "        like = RatedMovies[key][0]\n",
    "        director = RatedMovies[key][1].lower().replace(\" \", \"\")\n",
    "        if director in Directors.keys():\n",
    "            if like == 1:\n",
    "                Directors[director][0] += 1\n",
    "                likedmoviescount += 1\n",
    "            else:\n",
    "                Directors[director][1] += 1\n",
    "        else:\n",
    "            if like == 1:\n",
    "                Directors[director]= [1,0]\n",
    "                likedmoviescount += 1\n",
    "            else:\n",
    "                Directors[director][1] =[0,1]\n",
    "    return likedmoviescount"
   ],
   "metadata": {
    "collapsed": false,
    "pycharm": {
     "name": "#%%\n"
    }
   }
  },
  {
   "cell_type": "code",
   "execution_count": 19,
   "outputs": [],
   "source": [
    "def ActorFreq():\n",
    "    for key in RatedMovies.keys():\n",
    "        like = RatedMovies[key][0]\n",
    "        cont = 3\n",
    "        while cont < 6:\n",
    "            actor = RatedMovies[key][cont].lower().replace(\" \", \"\")\n",
    "            if actor in Actors.keys():\n",
    "                if like == 1:\n",
    "                    Actors[actor][0] += 1\n",
    "                else:\n",
    "                    Actors[actor][1] += 1\n",
    "            else:\n",
    "                if like == 1:\n",
    "                    Actors[actor] = [1, 0]\n",
    "                else:\n",
    "                    Actors[actor][1] = [0, 1]\n",
    "            cont += 1\n",
    "    return 0\n",
    "\n",
    "def GenreFreq():\n",
    "    for key in RatedMovies.keys():\n",
    "        like = RatedMovies[key][0]\n",
    "        genres = RatedMovies[key][2].split(\"|\")\n",
    "        for genre in genres:\n",
    "            genre = genre.lower().replace(\" \", \"\")\n",
    "            if genre in Genres.keys():\n",
    "                if like == 1:\n",
    "                    Genres[genre][0] += 1\n",
    "                else:\n",
    "                    Genres[genre][1] += 1\n",
    "            else:\n",
    "                if like == 1:\n",
    "                    Genres[genre] = [1, 0]\n",
    "                else:\n",
    "                    Genres[genre][1] = [0, 1]\n",
    "    return 0\n",
    "def KeyWordFreq():\n",
    "    for key in RatedMovies.keys():\n",
    "        like = RatedMovies[key][0]\n",
    "        keywords = RatedMovies[key][6].split(\"|\")\n",
    "        for keyword in keywords:\n",
    "            keyword = keywords.lower().replace(\" \", \"\")\n",
    "            if keyword in KeyWords.keys():\n",
    "                if like == 1:\n",
    "                    KeyWords[keyword][0] += 1\n",
    "                else:\n",
    "                    KeyWords[keyword][1] += 1\n",
    "            else:\n",
    "                if like == 1:\n",
    "                    KeyWords[keyword] = [1, 0]\n",
    "                else:\n",
    "                    KeyWords[keyword][1] = [0, 1]\n",
    "    return 0"
   ],
   "metadata": {
    "collapsed": false,
    "pycharm": {
     "name": "#%%\n"
    }
   }
  },
  {
   "cell_type": "code",
   "execution_count": 20,
   "outputs": [],
   "source": [
    "def Probabilities(likedmoviescount, ratedmoviescount):\n",
    "\n",
    "    for movie in allMovies:\n",
    "        if movie[0] not in RatedMovies.keys():\n",
    "            DirectorProb = NaiveBayes(Directors,movie[1].lower().replace(\" \", \"\"),likedmoviescount, ratedmoviescount,1)\n",
    "            GenresProb = 1\n",
    "            for genre in movie[2].split(\"|\"):\n",
    "                GenresProb*=NaiveBayes(Genres,genre.lower().replace(\" \", \"\"),likedmoviescount, ratedmoviescount,1)\n",
    "            Actor1Prob = NaiveBayes(Actors,movie[3].lower().replace(\" \", \"\"),likedmoviescount, ratedmoviescount,1)\n",
    "            Actor2Prob = NaiveBayes(Actors,movie[4].lower().replace(\" \", \"\"), likedmoviescount, ratedmoviescount,1)\n",
    "            Actor3Prob = NaiveBayes(Actors,movie[5].lower().replace(\" \", \"\"), likedmoviescount, ratedmoviescount,1)\n",
    "            KeyWordsProb = 1\n",
    "            for keyword in movie[6].split(\"|\"):\n",
    "                KeyWordsProb*=NaiveBayes(KeyWords,keyword.lower().replace(\" \", \"\"), likedmoviescount, ratedmoviescount,1)\n",
    "            movie.append(DirectorProb*GenresProb*Actor1Prob*Actor2Prob*Actor3Prob*KeyWordsProb)\n",
    "    return 0\n",
    "\n",
    "def NaiveBayes(Dictio, Evidence,likedmoviescount, ratedmoviescount, alpha):\n",
    "    numerator = 1\n",
    "    denominator = 1\n",
    "    if Dictio[Evidence][0] != 0:\n",
    "        numerator = Dictio[Evidence][0]*(likedmoviescount/ratedmoviescount)\n",
    "        denominator = numerator + Dictio[Evidence][1] * ((ratedmoviescount - likedmoviescount) / ratedmoviescount)\n",
    "    else:\n",
    "        numerator = alpha\n",
    "        denominator = (ratedmoviescount)+(2*alpha)\n",
    "    return numerator/denominator"
   ],
   "metadata": {
    "collapsed": false,
    "pycharm": {
     "name": "#%%\n"
    }
   }
  },
  {
   "cell_type": "code",
   "execution_count": 21,
   "outputs": [],
   "source": [
    "def GetRecommendation(user):\n",
    "    RatedMovies = UserPreferences(user)\n",
    "    allMovies = AllMoviesInfo()\n",
    "    ratedmoviescount = len(RatedMovies.keys())\n",
    "    #Get Info\n",
    "    for movie in allMovies:\n",
    "        if movie[0] in RatedMovies.keys():\n",
    "            #Director\n",
    "            RatedMovies[movie[0]].append(movie[1])\n",
    "            #Genres\n",
    "            RatedMovies[movie[0]].append(movie[2])\n",
    "            #Actor1\n",
    "            RatedMovies[movie[0]].append(movie[3])\n",
    "            #Actor2\n",
    "            RatedMovies[movie[0]].append(movie[4])\n",
    "            #Actor3\n",
    "            RatedMovies[movie[0]].append(movie[5])\n",
    "            #keywords\n",
    "            RatedMovies[movie[0]].append(movie[6])\n",
    "            #imdb score\n",
    "            RatedMovies[movie[0]].append(movie[7])\n",
    "            #num voted users\n",
    "            RatedMovies[movie[0]].append(movie[8])\n",
    "    likedmoviescount=DirectorFreq()\n",
    "    ActorFreq()\n",
    "    GenreFreq()\n",
    "    KeyWordFreq()\n",
    "    Probabilities(likedmoviescount, ratedmoviescount)\n",
    "    #print(sorted(allMovies, key=lambda movie: movie[9]))\n",
    "    return sorted(allMovies, key=lambda movie: movie[9])"
   ],
   "metadata": {
    "collapsed": false,
    "pycharm": {
     "name": "#%%\n"
    }
   }
  },
  {
   "cell_type": "code",
   "execution_count": 22,
   "outputs": [
    {
     "ename": "IndexError",
     "evalue": "tuple index out of range",
     "output_type": "error",
     "traceback": [
      "\u001B[1;31m---------------------------------------------------------------------------\u001B[0m",
      "\u001B[1;31mIndexError\u001B[0m                                Traceback (most recent call last)",
      "Input \u001B[1;32mIn [22]\u001B[0m, in \u001B[0;36m<cell line: 1>\u001B[1;34m()\u001B[0m\n\u001B[1;32m----> 1\u001B[0m \u001B[38;5;28mprint\u001B[39m(\u001B[43mGetRecommendation\u001B[49m\u001B[43m(\u001B[49m\u001B[38;5;124;43m\"\u001B[39;49m\u001B[38;5;124;43mjdeleon\u001B[39;49m\u001B[38;5;124;43m\"\u001B[39;49m\u001B[43m)\u001B[49m)\n",
      "Input \u001B[1;32mIn [21]\u001B[0m, in \u001B[0;36mGetRecommendation\u001B[1;34m(user)\u001B[0m\n\u001B[0;32m     28\u001B[0m Probabilities(likedmoviescount, ratedmoviescount)\n\u001B[0;32m     29\u001B[0m \u001B[38;5;66;03m#print(sorted(allMovies, key=lambda movie: movie[9]))\u001B[39;00m\n\u001B[1;32m---> 30\u001B[0m \u001B[38;5;28;01mreturn\u001B[39;00m \u001B[38;5;28;43msorted\u001B[39;49m\u001B[43m(\u001B[49m\u001B[43mallMovies\u001B[49m\u001B[43m,\u001B[49m\u001B[43m \u001B[49m\u001B[43mkey\u001B[49m\u001B[38;5;241;43m=\u001B[39;49m\u001B[38;5;28;43;01mlambda\u001B[39;49;00m\u001B[43m \u001B[49m\u001B[43mmovie\u001B[49m\u001B[43m:\u001B[49m\u001B[43m \u001B[49m\u001B[43mmovie\u001B[49m\u001B[43m[\u001B[49m\u001B[38;5;241;43m9\u001B[39;49m\u001B[43m]\u001B[49m\u001B[43m)\u001B[49m\n",
      "Input \u001B[1;32mIn [21]\u001B[0m, in \u001B[0;36mGetRecommendation.<locals>.<lambda>\u001B[1;34m(movie)\u001B[0m\n\u001B[0;32m     28\u001B[0m Probabilities(likedmoviescount, ratedmoviescount)\n\u001B[0;32m     29\u001B[0m \u001B[38;5;66;03m#print(sorted(allMovies, key=lambda movie: movie[9]))\u001B[39;00m\n\u001B[1;32m---> 30\u001B[0m \u001B[38;5;28;01mreturn\u001B[39;00m \u001B[38;5;28msorted\u001B[39m(allMovies, key\u001B[38;5;241m=\u001B[39m\u001B[38;5;28;01mlambda\u001B[39;00m movie: \u001B[43mmovie\u001B[49m\u001B[43m[\u001B[49m\u001B[38;5;241;43m9\u001B[39;49m\u001B[43m]\u001B[49m)\n",
      "\u001B[1;31mIndexError\u001B[0m: tuple index out of range"
     ]
    }
   ],
   "source": [
    "print(GetRecommendation(\"jdeleon\"))"
   ],
   "metadata": {
    "collapsed": false,
    "pycharm": {
     "name": "#%%\n"
    }
   }
  },
  {
   "cell_type": "code",
   "execution_count": null,
   "outputs": [],
   "source": [],
   "metadata": {
    "collapsed": false,
    "pycharm": {
     "name": "#%%\n"
    }
   }
  }
 ],
 "metadata": {
  "kernelspec": {
   "display_name": "Python 3",
   "language": "python",
   "name": "python3"
  },
  "language_info": {
   "codemirror_mode": {
    "name": "ipython",
    "version": 2
   },
   "file_extension": ".py",
   "mimetype": "text/x-python",
   "name": "python",
   "nbconvert_exporter": "python",
   "pygments_lexer": "ipython2",
   "version": "2.7.6"
  }
 },
 "nbformat": 4,
 "nbformat_minor": 0
}